{
 "cells": [
  {
   "cell_type": "code",
   "execution_count": 14,
   "id": "fc2045d2",
   "metadata": {},
   "outputs": [],
   "source": [
    "import numpy as np\n",
    "from sklearn.model_selection import train_test_split"
   ]
  },
  {
   "cell_type": "code",
   "execution_count": 15,
   "id": "32a4a2b4",
   "metadata": {},
   "outputs": [],
   "source": [
    "a = np.arange(1, 101)\n",
    "b = np.arange(501, 601)"
   ]
  },
  {
   "cell_type": "code",
   "execution_count": 16,
   "id": "85e4df7b",
   "metadata": {},
   "outputs": [],
   "source": [
    "a_train, a_test, b_train, b_test = train_test_split(a, b, test_size=0.2, random_state=42)\n",
    "# a_train, a_test = train_test_split(a, test_size=0.2, shuffle=False)"
   ]
  },
  {
   "cell_type": "code",
   "execution_count": 17,
   "id": "3a2f1719",
   "metadata": {},
   "outputs": [
    {
     "data": {
      "text/plain": [
       "((80,), (20,))"
      ]
     },
     "execution_count": 17,
     "metadata": {},
     "output_type": "execute_result"
    }
   ],
   "source": [
    "a_train.shape, a_test.shape"
   ]
  },
  {
   "cell_type": "code",
   "execution_count": 18,
   "id": "5e8e49ea",
   "metadata": {},
   "outputs": [
    {
     "data": {
      "text/plain": [
       "(array([556, 589, 527, 543, 570, 516, 541, 597, 510, 573, 512, 548, 586,\n",
       "        529, 594, 506, 567, 566, 536, 517, 550, 535, 508, 596, 528, 520,\n",
       "        582, 526, 563, 514, 525, 504, 518, 539, 509, 579, 507, 565, 537,\n",
       "        590, 557, 600, 555, 544, 551, 568, 547, 569, 562, 598, 580, 542,\n",
       "        559, 549, 599, 558, 576, 533, 595, 560, 564, 585, 538, 530, 502,\n",
       "        553, 522, 503, 524, 588, 592, 575, 587, 583, 521, 561, 572, 515,\n",
       "        593, 552]),\n",
       " array([584, 554, 571, 546, 545, 540, 523, 581, 511, 501, 519, 531, 574,\n",
       "        534, 591, 505, 577, 578, 513, 532]))"
      ]
     },
     "execution_count": 18,
     "metadata": {},
     "output_type": "execute_result"
    }
   ],
   "source": [
    "b_train, b_test"
   ]
  }
 ],
 "metadata": {
  "kernelspec": {
   "display_name": "venv",
   "language": "python",
   "name": "python3"
  },
  "language_info": {
   "codemirror_mode": {
    "name": "ipython",
    "version": 3
   },
   "file_extension": ".py",
   "mimetype": "text/x-python",
   "name": "python",
   "nbconvert_exporter": "python",
   "pygments_lexer": "ipython3",
   "version": "3.13.5"
  }
 },
 "nbformat": 4,
 "nbformat_minor": 5
}
