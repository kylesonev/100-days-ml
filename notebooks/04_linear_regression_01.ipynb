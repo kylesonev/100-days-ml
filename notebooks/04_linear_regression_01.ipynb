{
 "cells": [
  {
   "cell_type": "code",
   "execution_count": null,
   "id": "a21e504e",
   "metadata": {},
   "outputs": [],
   "source": [
    "import pandas as pd\n",
    "import numpy as np\n",
    "import statsmodels.api as sm\n",
    "import matplotlib.pyplot as plt\n",
    "from sklearn.linear_model import LinearRegression\n",
    "import seaborn as sns\n",
    "sns.set()"
   ]
  },
  {
   "cell_type": "code",
   "execution_count": null,
   "id": "1379ed2d",
   "metadata": {},
   "outputs": [],
   "source": [
    "raw_data = pd.read_csv(\"../data/cars.csv\")\n",
    "raw_data"
   ]
  },
  {
   "cell_type": "markdown",
   "id": "75bba8e0",
   "metadata": {},
   "source": [
    "Pré processamento"
   ]
  },
  {
   "cell_type": "code",
   "execution_count": null,
   "id": "4cd453c4",
   "metadata": {},
   "outputs": [],
   "source": [
    "raw_data.describe(include=\"all\")"
   ]
  },
  {
   "cell_type": "markdown",
   "id": "f2e84f01",
   "metadata": {},
   "source": [
    "Determinando as variáveis de interesse"
   ]
  },
  {
   "cell_type": "code",
   "execution_count": null,
   "id": "f14aebb3",
   "metadata": {},
   "outputs": [],
   "source": [
    "data = raw_data.drop([\"Model\"], axis=1)"
   ]
  },
  {
   "cell_type": "code",
   "execution_count": null,
   "id": "70c03b81",
   "metadata": {},
   "outputs": [],
   "source": [
    "data.isna().sum()"
   ]
  },
  {
   "cell_type": "code",
   "execution_count": null,
   "id": "b97533ec",
   "metadata": {},
   "outputs": [],
   "source": [
    "data_no_mv = data.dropna(axis=0)"
   ]
  },
  {
   "cell_type": "code",
   "execution_count": null,
   "id": "df7eab40",
   "metadata": {},
   "outputs": [],
   "source": [
    "data_no_mv"
   ]
  },
  {
   "cell_type": "code",
   "execution_count": null,
   "id": "8d49d528",
   "metadata": {},
   "outputs": [],
   "source": [
    "sns.distplot(data_no_mv[\"Price\"])"
   ]
  },
  {
   "cell_type": "code",
   "execution_count": null,
   "id": "b761826b",
   "metadata": {},
   "outputs": [],
   "source": [
    "q = data_no_mv[\"Price\"].quantile(0.99)\n",
    "data_1 = data_no_mv[data_no_mv[\"Price\"] < q]\n",
    "data_1.describe(include=\"all\")"
   ]
  },
  {
   "cell_type": "code",
   "execution_count": null,
   "id": "6e1ea1d7",
   "metadata": {},
   "outputs": [],
   "source": [
    "sns.distplot(data_1[\"Price\"])"
   ]
  },
  {
   "cell_type": "code",
   "execution_count": null,
   "id": "1810ffc7",
   "metadata": {},
   "outputs": [],
   "source": [
    "q = data_1[\"Mileage\"].quantile(0.99)\n",
    "data_2 = data_1[data_1[\"Mileage\"] < q]\n",
    "data_2.describe(include=\"all\")"
   ]
  },
  {
   "cell_type": "code",
   "execution_count": null,
   "id": "293e0b98",
   "metadata": {},
   "outputs": [],
   "source": [
    "sns.distplot(data_2[\"Mileage\"])"
   ]
  },
  {
   "cell_type": "code",
   "execution_count": null,
   "id": "dff4bd85",
   "metadata": {},
   "outputs": [],
   "source": [
    "data_3 = data_2[data_2[\"EngineV\"] < 6.5]\n",
    "data_3.describe(include=\"all\")"
   ]
  },
  {
   "cell_type": "code",
   "execution_count": null,
   "id": "dc5eba4d",
   "metadata": {},
   "outputs": [],
   "source": [
    "sns.distplot(data_3[\"EngineV\"])"
   ]
  },
  {
   "cell_type": "code",
   "execution_count": null,
   "id": "cae93429",
   "metadata": {},
   "outputs": [],
   "source": [
    "q = data_3[\"Year\"].quantile(0.01)\n",
    "data_4 = data_3[data_3[\"Year\"] > q]"
   ]
  },
  {
   "cell_type": "code",
   "execution_count": null,
   "id": "3ed8914a",
   "metadata": {},
   "outputs": [],
   "source": [
    "sns.distplot(data_4[\"Year\"])"
   ]
  },
  {
   "cell_type": "code",
   "execution_count": null,
   "id": "95a65067",
   "metadata": {},
   "outputs": [],
   "source": [
    "data_cleaned = data_4.reset_index(drop=True)"
   ]
  },
  {
   "cell_type": "code",
   "execution_count": null,
   "id": "55849575",
   "metadata": {},
   "outputs": [],
   "source": [
    "data_cleaned.describe(include=\"all\")"
   ]
  },
  {
   "cell_type": "code",
   "execution_count": null,
   "id": "1a8e9422",
   "metadata": {},
   "outputs": [],
   "source": [
    "f, (ax1, ax2, ax3) = plt.subplots(1, 3, sharey=True, figsize=(15,3))\n",
    "ax1.scatter(data_cleaned[\"Year\"], data_cleaned[\"Price\"])\n",
    "ax1.set_title(\"Preço e Ano\")\n",
    "ax2.scatter(data_cleaned[\"Mileage\"], data_cleaned[\"Price\"])\n",
    "ax2.set_title(\"Preço e Quilometragem\")\n",
    "ax3.scatter(data_cleaned[\"EngineV\"], data_cleaned[\"Price\"])\n",
    "ax3.set_title(\"Preço e Motor\")\n",
    "\n",
    "plt.show()"
   ]
  },
  {
   "cell_type": "code",
   "execution_count": null,
   "id": "1e66005d",
   "metadata": {},
   "outputs": [],
   "source": [
    "log_price = np.log(data_cleaned[\"Price\"])\n",
    "data_cleaned[\"log_price\"] = log_price\n",
    "data_cleaned"
   ]
  },
  {
   "cell_type": "code",
   "execution_count": null,
   "id": "e16924cf",
   "metadata": {},
   "outputs": [],
   "source": [
    "f, (ax1, ax2, ax3) = plt.subplots(1, 3, sharey=True, figsize=(15,3))\n",
    "ax1.scatter(data_cleaned[\"Year\"], data_cleaned[\"log_price\"])\n",
    "ax1.set_title(\"Preço e Ano\")\n",
    "ax2.scatter(data_cleaned[\"Mileage\"], data_cleaned[\"log_price\"])\n",
    "ax2.set_title(\"Preço e Quilometragem\")\n",
    "ax3.scatter(data_cleaned[\"EngineV\"], data_cleaned[\"log_price\"])\n",
    "ax3.set_title(\"Preço e Motor\")\n",
    "\n",
    "plt.show()"
   ]
  },
  {
   "cell_type": "code",
   "execution_count": null,
   "id": "48210ce6",
   "metadata": {},
   "outputs": [],
   "source": [
    "data_cleaned = data_cleaned.drop([\"Price\"], axis=1)"
   ]
  },
  {
   "cell_type": "code",
   "execution_count": null,
   "id": "8d83c06b",
   "metadata": {},
   "outputs": [],
   "source": [
    "from statsmodels.stats.outliers_influence import variance_inflation_factor\n",
    "variables = data_cleaned[[\"Mileage\", \"Year\", \"EngineV\"]]\n",
    "vif = pd.DataFrame()\n",
    "vif[\"VIF\"] = [variance_inflation_factor(variables.values, i) for i in range(variables.shape[1])]\n",
    "vif[\"features\"] = variables.columns\n"
   ]
  },
  {
   "cell_type": "code",
   "execution_count": null,
   "id": "4294607e",
   "metadata": {},
   "outputs": [],
   "source": [
    "# VIF = 1: sem multicolinearidade\n",
    "# 1 < VIF < 5 ok\n",
    "# 10 < VIF inaceitável\n",
    "vif"
   ]
  },
  {
   "cell_type": "code",
   "execution_count": null,
   "id": "e271aa3c",
   "metadata": {},
   "outputs": [],
   "source": [
    "data_no_multicollinearity = data_cleaned.drop([\"Year\"], axis=1)"
   ]
  },
  {
   "cell_type": "code",
   "execution_count": null,
   "id": "26ba15fc",
   "metadata": {},
   "outputs": [],
   "source": [
    "data_with_dummies = pd.get_dummies(data_no_multicollinearity, drop_first=True)"
   ]
  },
  {
   "cell_type": "code",
   "execution_count": null,
   "id": "1e3c5bb1",
   "metadata": {},
   "outputs": [],
   "source": [
    "data_with_dummies.head()"
   ]
  },
  {
   "cell_type": "code",
   "execution_count": null,
   "id": "adc55742",
   "metadata": {},
   "outputs": [],
   "source": [
    "data_with_dummies.columns.values"
   ]
  },
  {
   "cell_type": "code",
   "execution_count": null,
   "id": "2d27d018",
   "metadata": {},
   "outputs": [],
   "source": [
    "cols = ['log_price', 'Mileage', 'EngineV', 'Brand_BMW',\n",
    "       'Brand_Mercedes-Benz', 'Brand_Mitsubishi', 'Brand_Renault',\n",
    "       'Brand_Toyota', 'Brand_Volkswagen', 'Body_hatch', 'Body_other',\n",
    "       'Body_sedan', 'Body_vagon', 'Body_van', 'Engine Type_Gas',\n",
    "       'Engine Type_Other', 'Engine Type_Petrol', 'Registration_yes']"
   ]
  },
  {
   "cell_type": "code",
   "execution_count": null,
   "id": "fa2c4563",
   "metadata": {},
   "outputs": [],
   "source": [
    "data_preprocessed = data_with_dummies[cols]\n",
    "data_preprocessed.head()"
   ]
  },
  {
   "cell_type": "code",
   "execution_count": null,
   "id": "63dbe815",
   "metadata": {},
   "outputs": [],
   "source": [
    "target = data_preprocessed[\"log_price\"]\n",
    "inputs = data_preprocessed.drop([\"log_price\"], axis=1)"
   ]
  },
  {
   "cell_type": "code",
   "execution_count": null,
   "id": "1e537dc0",
   "metadata": {},
   "outputs": [],
   "source": [
    "from sklearn.preprocessing import StandardScaler\n",
    "scaler = StandardScaler()\n",
    "scaler.fit(inputs)\n"
   ]
  },
  {
   "cell_type": "code",
   "execution_count": null,
   "id": "333d1cec",
   "metadata": {},
   "outputs": [],
   "source": [
    "inputs_scaled = scaler.transform(inputs)"
   ]
  },
  {
   "cell_type": "code",
   "execution_count": null,
   "id": "079aee70",
   "metadata": {},
   "outputs": [],
   "source": [
    "inputs_scaled"
   ]
  },
  {
   "cell_type": "code",
   "execution_count": null,
   "id": "b6c6ec40",
   "metadata": {},
   "outputs": [],
   "source": [
    "from sklearn.model_selection import train_test_split\n",
    "\n",
    "X_train, X_test, y_train, y_test = train_test_split(inputs_scaled, target, test_size=0.2, random_state=365)\n"
   ]
  },
  {
   "cell_type": "code",
   "execution_count": null,
   "id": "8d0c6d77",
   "metadata": {},
   "outputs": [],
   "source": [
    "reg = LinearRegression()\n",
    "reg.fit(X_train, y_train)\n"
   ]
  },
  {
   "cell_type": "code",
   "execution_count": null,
   "id": "0a38c304",
   "metadata": {},
   "outputs": [],
   "source": [
    "y_hat = reg.predict(X_train)"
   ]
  },
  {
   "cell_type": "code",
   "execution_count": null,
   "id": "1e7bf1be",
   "metadata": {},
   "outputs": [],
   "source": [
    "plt.scatter(y_train, y_hat)\n",
    "plt.xlim(6, 13)\n",
    "plt.ylim(6, 13)\n",
    "plt.show()"
   ]
  },
  {
   "cell_type": "code",
   "execution_count": null,
   "id": "a5f3931c",
   "metadata": {},
   "outputs": [],
   "source": [
    "sns.distplot(y_train - y_hat)"
   ]
  },
  {
   "cell_type": "code",
   "execution_count": null,
   "id": "a0d49bb2",
   "metadata": {},
   "outputs": [],
   "source": [
    "reg.score(X_train, y_train)"
   ]
  },
  {
   "cell_type": "code",
   "execution_count": null,
   "id": "9beaf022",
   "metadata": {},
   "outputs": [],
   "source": [
    "reg.intercept_"
   ]
  },
  {
   "cell_type": "code",
   "execution_count": null,
   "id": "23c47b26",
   "metadata": {},
   "outputs": [],
   "source": [
    "reg.coef_"
   ]
  },
  {
   "cell_type": "code",
   "execution_count": null,
   "id": "b91ec069",
   "metadata": {},
   "outputs": [],
   "source": [
    "reg_summary = pd.DataFrame(inputs.columns.values, columns=[\"Features\"])\n",
    "reg_summary[\"Weights\"] = reg.coef_\n",
    "reg_summary"
   ]
  },
  {
   "cell_type": "code",
   "execution_count": null,
   "id": "2ff81f62",
   "metadata": {},
   "outputs": [],
   "source": [
    "data_cleaned[\"Engine Type\"].unique()"
   ]
  },
  {
   "cell_type": "code",
   "execution_count": null,
   "id": "f800aea5",
   "metadata": {},
   "outputs": [],
   "source": [
    "y_hat_test = reg.predict(X_test)"
   ]
  },
  {
   "cell_type": "code",
   "execution_count": null,
   "id": "f19fbdb9",
   "metadata": {},
   "outputs": [],
   "source": [
    "plt.scatter(y_test, y_hat_test, alpha=0.2)\n",
    "plt.xlim(6, 13)\n",
    "plt.ylim(6, 13)\n",
    "plt.show()"
   ]
  },
  {
   "cell_type": "code",
   "execution_count": null,
   "id": "f5f985b5",
   "metadata": {},
   "outputs": [],
   "source": [
    "df_pf = pd.DataFrame(np.exp(y_hat_test), columns=[\"Previsões\"])\n",
    "df_pf.head()"
   ]
  },
  {
   "cell_type": "code",
   "execution_count": null,
   "id": "24e69a20",
   "metadata": {},
   "outputs": [],
   "source": [
    "df_pf[\"Target\"] = np.exp(y_test)\n",
    "df_pf.head()"
   ]
  },
  {
   "cell_type": "code",
   "execution_count": null,
   "id": "41c015da",
   "metadata": {},
   "outputs": [],
   "source": [
    "y_test = y_test.reset_index(drop=True)"
   ]
  },
  {
   "cell_type": "code",
   "execution_count": null,
   "id": "b684a580",
   "metadata": {},
   "outputs": [],
   "source": [
    "df_pf[\"Target\"] = np.exp(y_test)\n",
    "df_pf.head()"
   ]
  },
  {
   "cell_type": "code",
   "execution_count": null,
   "id": "647a27ad",
   "metadata": {},
   "outputs": [],
   "source": [
    "df_pf[\"Resíduos\"] = df_pf[\"Target\"] - df_pf[\"Previsões\"]"
   ]
  },
  {
   "cell_type": "code",
   "execution_count": null,
   "id": "250c01e1",
   "metadata": {},
   "outputs": [],
   "source": [
    "df_pf[\"Diferença %\"] = np.absolute(df_pf[\"Resíduos\"]/df_pf[\"Target\"] * 100)"
   ]
  },
  {
   "cell_type": "code",
   "execution_count": null,
   "id": "076be9fc",
   "metadata": {},
   "outputs": [],
   "source": [
    "df_pf.describe()"
   ]
  },
  {
   "cell_type": "code",
   "execution_count": null,
   "id": "8ba4f4fa",
   "metadata": {},
   "outputs": [],
   "source": [
    "pd.options.display.max_rows = 999\n",
    "pd.set_option(\"display.float_format\", lambda x: \"%.2f\" % x)\n",
    "df_pf.sort_values(by=[\"Diferença %\"])"
   ]
  }
 ],
 "metadata": {
  "kernelspec": {
   "display_name": "venv",
   "language": "python",
   "name": "python3"
  },
  "language_info": {
   "codemirror_mode": {
    "name": "ipython",
    "version": 3
   },
   "file_extension": ".py",
   "mimetype": "text/x-python",
   "name": "python",
   "nbconvert_exporter": "python",
   "pygments_lexer": "ipython3",
   "version": "3.13.5"
  }
 },
 "nbformat": 4,
 "nbformat_minor": 5
}
